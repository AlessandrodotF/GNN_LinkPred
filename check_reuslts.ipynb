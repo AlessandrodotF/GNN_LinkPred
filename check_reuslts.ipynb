{
 "cells": [
  {
   "cell_type": "markdown",
   "id": "1d9e3bdd",
   "metadata": {},
   "source": [
    "### This file is used for the reproducibility problem monitoring "
   ]
  },
  {
   "cell_type": "code",
   "execution_count": 1,
   "id": "52e15829",
   "metadata": {},
   "outputs": [
    {
     "name": "stdout",
     "output_type": "stream",
     "text": [
      "Stesso contenuto, ordine ignorato.\n"
     ]
    }
   ],
   "source": [
    "import json\n",
    "# Carica entrambi i file\n",
    "dir1=\"RESULTS1/\"\n",
    "dir2=\"RESULTS/\"\n",
    "\n",
    "with open(dir1+'PROV_network_test_clean.json') as f1, open(dir2+'PROV_network_test_clean.json') as f2:\n",
    "    data1 = json.load(f1)\n",
    "    data2 = json.load(f2)\n",
    "\n",
    "\n",
    "# Confronta ignorando l'ordine delle triple\n",
    "if set(tuple(triple) for triple in data1) == set(tuple(triple) for triple in data2):\n",
    "    print(\"Stesso contenuto, ordine ignorato.\")\n",
    "else:\n",
    "    print(\"Contenuti diversi.\")"
   ]
  },
  {
   "cell_type": "code",
   "execution_count": 2,
   "id": "981c4239",
   "metadata": {},
   "outputs": [
    {
     "name": "stdout",
     "output_type": "stream",
     "text": [
      "Stesso contenuto, ordine ignorato.\n"
     ]
    }
   ],
   "source": [
    "import json\n",
    "# Carica entrambi i file\n",
    "dir1=\"RESULTS1/\"\n",
    "dir2=\"RESULTS/\"\n",
    "\n",
    "with open(dir1+'PROV_network_test_FINAL_valid_triplets.json') as f1, open(dir2+'PROV_network_test_FINAL_valid_triplets.json') as f2:\n",
    "    data1 = json.load(f1)\n",
    "    data2 = json.load(f2)\n",
    "\n",
    "\n",
    "# Confronta ignorando l'ordine delle triple\n",
    "if set(tuple(triple) for triple in data1) == set(tuple(triple) for triple in data2):\n",
    "    print(\"Stesso contenuto, ordine ignorato.\")\n",
    "else:\n",
    "    print(\"Contenuti diversi.\")"
   ]
  },
  {
   "cell_type": "code",
   "execution_count": 3,
   "id": "ff3fbaa8",
   "metadata": {},
   "outputs": [
    {
     "name": "stdout",
     "output_type": "stream",
     "text": [
      "Stesso contenuto, ordine ignorato.\n"
     ]
    }
   ],
   "source": [
    "import json\n",
    "# Carica entrambi i file\n",
    "dir1=\"RESULTS1/\"\n",
    "dir2=\"RESULTS/\"\n",
    "\n",
    "with open(dir1+'UNSEEN_PROV_network_test_FINAL_valid_triplets.json') as f1, open(dir2+'UNSEEN_PROV_network_test_FINAL_valid_triplets.json') as f2:\n",
    "    data1 = json.load(f1)\n",
    "    data2 = json.load(f2)\n",
    "\n",
    "\n",
    "# Confronta ignorando l'ordine delle triple\n",
    "if set(tuple(triple) for triple in data1) == set(tuple(triple) for triple in data2):\n",
    "    print(\"Stesso contenuto, ordine ignorato.\")\n",
    "else:\n",
    "    print(\"Contenuti diversi.\")"
   ]
  },
  {
   "cell_type": "code",
   "execution_count": 4,
   "id": "27b9f85f",
   "metadata": {},
   "outputs": [
    {
     "name": "stdout",
     "output_type": "stream",
     "text": [
      "Stesso contenuto, ordine ignorato.\n"
     ]
    }
   ],
   "source": [
    "import csv\n",
    "\n",
    "# Percorso dei file\n",
    "dir1=\"RESULTS1/\"\n",
    "dir2=\"RESULTS/\"\n",
    "\n",
    "file1 = dir1 + \"statements_and_metrics_UNSEEN_PROV_network_test_FINAL_valid_triplets.csv\"\n",
    "file2 = dir2 + \"statements_and_metrics_UNSEEN_PROV_network_test_FINAL_valid_triplets.csv\"\n",
    "\n",
    "# Carica i dati ignorando l'ordine\n",
    "def load_scsv_as_set(filename):\n",
    "    with open(filename, newline='') as f:\n",
    "        reader = csv.reader(f, delimiter=';')\n",
    "        rows = list(reader)\n",
    "        header, data = rows[0], rows[1:]  # separa header e dati\n",
    "        return header, set(tuple(row) for row in data)\n",
    "\n",
    "# Carica entrambi i file\n",
    "header1, data1 = load_scsv_as_set(file1)\n",
    "header2, data2 = load_scsv_as_set(file2)\n",
    "\n",
    "# Confronta intestazioni\n",
    "if header1 != header2:\n",
    "    print(\"Header diversi.\")\n",
    "# Confronta contenuto (ignorando ordine delle righe)\n",
    "elif data1 == data2:\n",
    "    print(\"Stesso contenuto, ordine ignorato.\")\n",
    "else:\n",
    "    print(\"Contenuti diversi.\")\n"
   ]
  }
 ],
 "metadata": {
  "kernelspec": {
   "display_name": "env_sara",
   "language": "python",
   "name": "python3"
  },
  "language_info": {
   "codemirror_mode": {
    "name": "ipython",
    "version": 3
   },
   "file_extension": ".py",
   "mimetype": "text/x-python",
   "name": "python",
   "nbconvert_exporter": "python",
   "pygments_lexer": "ipython3",
   "version": "3.9.21"
  }
 },
 "nbformat": 4,
 "nbformat_minor": 5
}
