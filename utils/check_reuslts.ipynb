{
 "cells": [
  {
   "cell_type": "markdown",
   "id": "1d9e3bdd",
   "metadata": {},
   "source": [
    "### This file is used for the reproducibility problem monitoring "
   ]
  },
  {
   "cell_type": "code",
   "execution_count": 7,
   "id": "52e15829",
   "metadata": {},
   "outputs": [
    {
     "name": "stdout",
     "output_type": "stream",
     "text": [
      "Stesso contenuto, ordine ignorato.\n"
     ]
    }
   ],
   "source": [
    "import json\n",
    "# Carica entrambi i file\n",
    "dir=\"dataset/PROV_network_test/\"\n",
    "with open(dir+'PROV_network_test_clean.json') as f1, open(dir+'PROV_network_test_clean2.json') as f2:\n",
    "    data1 = json.load(f1)\n",
    "    data2 = json.load(f2)\n",
    "\n",
    "\n",
    "# Confronta ignorando l'ordine delle triple\n",
    "if set(tuple(triple) for triple in data1) == set(tuple(triple) for triple in data2):\n",
    "    print(\"Stesso contenuto, ordine ignorato.\")\n",
    "else:\n",
    "    print(\"Contenuti diversi.\")"
   ]
  },
  {
   "cell_type": "code",
   "execution_count": null,
   "id": "981c4239",
   "metadata": {},
   "outputs": [
    {
     "name": "stdout",
     "output_type": "stream",
     "text": [
      "Stesso contenuto, ordine ignorato.\n"
     ]
    }
   ],
   "source": [
    "import json\n",
    "# Carica entrambi i file\n",
    "dir=\"dataset/MDAPR/\"\n",
    "with open(dir+'PROV_network_test_FINAL_valid_triplets.json') as f1, open(dir+'PROV_network_test_FINAL_valid_triplets2.json') as f2:\n",
    "    data1 = json.load(f1)\n",
    "    data2 = json.load(f2)\n",
    "\n",
    "\n",
    "# Confronta ignorando l'ordine delle triple\n",
    "if set(tuple(triple) for triple in data1) == set(tuple(triple) for triple in data2):\n",
    "    print(\"Stesso contenuto, ordine ignorato.\")\n",
    "else:\n",
    "    print(\"Contenuti diversi.\")"
   ]
  },
  {
   "cell_type": "code",
   "execution_count": 6,
   "id": "ff3fbaa8",
   "metadata": {},
   "outputs": [
    {
     "data": {
      "text/plain": [
       "9881"
      ]
     },
     "execution_count": 6,
     "metadata": {},
     "output_type": "execute_result"
    }
   ],
   "source": [
    "len(data1)"
   ]
  },
  {
   "cell_type": "code",
   "execution_count": 9,
   "id": "6f5d14cd",
   "metadata": {},
   "outputs": [
    {
     "name": "stdout",
     "output_type": "stream",
     "text": [
      "Stesso contenuto, ordine ignorato.\n"
     ]
    }
   ],
   "source": [
    "import json\n",
    "# Carica entrambi i file\n",
    "dir=\"dataset/PROV_network_test/\"\n",
    "with open(dir+'UNSEEN_PROV_network_test_FINAL_valid_triplets.json') as f1, open(dir+'UNSEEN_PROV_network_test_FINAL_valid_triplets1.json') as f2:\n",
    "    data1 = json.load(f1)\n",
    "    data2 = json.load(f2)\n",
    "\n",
    "\n",
    "# Confronta ignorando l'ordine delle triple\n",
    "if set(tuple(triple) for triple in data1) == set(tuple(triple) for triple in data2):\n",
    "    print(\"Stesso contenuto, ordine ignorato.\")\n",
    "else:\n",
    "    print(\"Contenuti diversi.\")"
   ]
  },
  {
   "cell_type": "code",
   "execution_count": 4,
   "id": "ca30bea3",
   "metadata": {},
   "outputs": [
    {
     "data": {
      "text/plain": [
       "9881"
      ]
     },
     "execution_count": 4,
     "metadata": {},
     "output_type": "execute_result"
    }
   ],
   "source": [
    "len(data1)"
   ]
  },
  {
   "cell_type": "code",
   "execution_count": 11,
   "id": "27b9f85f",
   "metadata": {},
   "outputs": [
    {
     "name": "stdout",
     "output_type": "stream",
     "text": [
      "Stesso contenuto, ordine ignorato.\n"
     ]
    }
   ],
   "source": [
    "import csv\n",
    "\n",
    "# Percorso dei file\n",
    "dir = \"dataset/MDAPR/\"\n",
    "file1 = dir + \"statements_and_metrics_UNSEEN_MDAPR_FINAL_valid_triplets1.csv\"\n",
    "file2 = dir + \"statements_and_metrics_UNSEEN_MDAPR_FINAL_valid_triplets2.csv\"\n",
    "\n",
    "# Carica i dati ignorando l'ordine\n",
    "def load_scsv_as_set(filename):\n",
    "    with open(filename, newline='') as f:\n",
    "        reader = csv.reader(f, delimiter=';')\n",
    "        rows = list(reader)\n",
    "        header, data = rows[0], rows[1:]  # separa header e dati\n",
    "        return header, set(tuple(row) for row in data)\n",
    "\n",
    "# Carica entrambi i file\n",
    "header1, data1 = load_scsv_as_set(file1)\n",
    "header2, data2 = load_scsv_as_set(file2)\n",
    "\n",
    "# Confronta intestazioni\n",
    "if header1 != header2:\n",
    "    print(\"Header diversi.\")\n",
    "# Confronta contenuto (ignorando ordine delle righe)\n",
    "elif data1 == data2:\n",
    "    print(\"Stesso contenuto, ordine ignorato.\")\n",
    "else:\n",
    "    print(\"Contenuti diversi.\")\n"
   ]
  },
  {
   "cell_type": "code",
   "execution_count": 2,
   "id": "0ec1c6da",
   "metadata": {},
   "outputs": [
    {
     "data": {
      "text/plain": [
       "9805"
      ]
     },
     "execution_count": 2,
     "metadata": {},
     "output_type": "execute_result"
    }
   ],
   "source": [
    "len(data1)"
   ]
  }
 ],
 "metadata": {
  "kernelspec": {
   "display_name": "env_sara",
   "language": "python",
   "name": "python3"
  },
  "language_info": {
   "codemirror_mode": {
    "name": "ipython",
    "version": 3
   },
   "file_extension": ".py",
   "mimetype": "text/x-python",
   "name": "python",
   "nbconvert_exporter": "python",
   "pygments_lexer": "ipython3",
   "version": "3.9.21"
  }
 },
 "nbformat": 4,
 "nbformat_minor": 5
}
